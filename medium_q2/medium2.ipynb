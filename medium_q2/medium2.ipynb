{
 "cells": [
  {
   "cell_type": "code",
   "execution_count": null,
   "metadata": {},
   "outputs": [],
   "source": [
    "class Solution:\n",
    "    def reverse(self, x):\n",
    "        if x <0:\n",
    "            sign=-1\n",
    "            x=abs(x)\n",
    "        else:\n",
    "            sign=1\n",
    "\n",
    "        rev= str(x)[::-1]\n",
    "        rev_num=int(rev)*sign\n",
    "        if -2147483648<rev_num<2147483648:\n",
    "            return rev_num\n",
    "            \n",
    "        else:\n",
    "             return 0"
   ]
  }
 ],
 "metadata": {
  "language_info": {
   "name": "python"
  },
  "orig_nbformat": 4
 },
 "nbformat": 4,
 "nbformat_minor": 2
}
