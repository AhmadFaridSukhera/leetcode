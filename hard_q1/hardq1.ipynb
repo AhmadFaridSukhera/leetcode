{
 "cells": [
  {
   "cell_type": "code",
   "execution_count": 14,
   "metadata": {},
   "outputs": [
    {
     "name": "stdout",
     "output_type": "stream",
     "text": [
      "[1, 4, 5, 1, 3, 4, 2, 6]\n",
      "[1, 1, 2, 3, 4, 4, 5, 6]\n"
     ]
    }
   ],
   "source": [
    "# Definition for singly-linked list.\n",
    "# class ListNode(object):\n",
    "#     def __init__(self, val=0, next=None):\n",
    "#         self.val = val\n",
    "#         self.next = next\n",
    "class Solution(object):\n",
    "    def mergeKLists(self, lists):\n",
    "        \"\"\"\n",
    "        :type lists: List[ListNode]\n",
    "        :rtype: ListNode\n",
    "        \"\"\"\n",
    "        values=[]\n",
    "         # Extract values from ListNode objects\n",
    "        for x in lists:\n",
    "            current = x\n",
    "            while current:\n",
    "                values.append(current.val)\n",
    "                current = current.next\n",
    "\n",
    "        values.sort() \n",
    "\n",
    "    \n",
    "        newlist = ListNode()  # Create a dummy node to simplify the merging process\n",
    "        current = newlist\n",
    "        for x in values:\n",
    "            current.next = ListNode(x)\n",
    "            current = current.next\n",
    "\n",
    "        return newlist.next\n"
   ]
  },
  {
   "cell_type": "code",
   "execution_count": null,
   "metadata": {},
   "outputs": [],
   "source": []
  }
 ],
 "metadata": {
  "kernelspec": {
   "display_name": "base",
   "language": "python",
   "name": "python3"
  },
  "language_info": {
   "codemirror_mode": {
    "name": "ipython",
    "version": 3
   },
   "file_extension": ".py",
   "mimetype": "text/x-python",
   "name": "python",
   "nbconvert_exporter": "python",
   "pygments_lexer": "ipython3",
   "version": "3.10.9"
  },
  "orig_nbformat": 4
 },
 "nbformat": 4,
 "nbformat_minor": 2
}
